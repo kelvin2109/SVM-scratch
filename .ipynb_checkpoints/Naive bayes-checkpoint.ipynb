{
 "cells": [
  {
   "cell_type": "code",
   "execution_count": 47,
   "id": "4b65c038",
   "metadata": {},
   "outputs": [
    {
     "name": "stdout",
     "output_type": "stream",
     "text": [
      "(100, 2) (100,)\n",
      "[[-0.79415228  2.10495117]\n",
      " [-9.15155186 -4.81286449]\n",
      " [-3.10367371  3.90202401]\n",
      " [-1.42946517  5.16850105]\n",
      " [-7.4693868  -4.20198333]]\n",
      "[0 1 0 0 1]\n"
     ]
    }
   ],
   "source": [
    "from sklearn.datasets import make_blobs\n",
    "\n",
    "X,y = make_blobs(n_samples=100,centers=2,n_features=2,random_state=1)\n",
    "\n",
    "print(X.shape,y.shape)\n",
    "print(X[:5])\n",
    "print(y[:5])\n"
   ]
  },
  {
   "cell_type": "code",
   "execution_count": 48,
   "id": "ad14d593",
   "metadata": {},
   "outputs": [
    {
     "data": {
      "text/plain": [
       "[<matplotlib.lines.Line2D at 0x1acebf4eb50>]"
      ]
     },
     "execution_count": 48,
     "metadata": {},
     "output_type": "execute_result"
    },
    {
     "data": {
      "image/png": "[encoded data removed]",
      "text/plain": [
       "<Figure size 432x288 with 1 Axes>"
      ]
     },
     "metadata": {
      "needs_background": "light"
     },
     "output_type": "display_data"
    }
   ],
   "source": [
    "import matplotlib.pyplot as plt\n",
    "\n",
    "plt.plot(X[:,0],X[:,1],'o',color='Blue')\n",
    " "
   ]
  },
  {
   "cell_type": "code",
   "execution_count": 49,
   "id": "c2506f79",
   "metadata": {},
   "outputs": [],
   "source": [
    "import numpy as np\n",
    "from scipy.stats import norm"
   ]
  },
  {
   "cell_type": "code",
   "execution_count": 50,
   "id": "8f3e8170",
   "metadata": {},
   "outputs": [],
   "source": [
    "# from this function we create the distribution(a normal ditribution) from the given bunch of data.\n",
    "def fit_distribution(data):\n",
    "    mu = np.mean(data)\n",
    "    sigma = np.std(data)\n",
    "    print(mu,sigma)\n",
    "    dist = norm(mu,sigma)\n",
    "    return dist\n",
    "\n"
   ]
  },
  {
   "cell_type": "code",
   "execution_count": 51,
   "id": "824827d7",
   "metadata": {},
   "outputs": [
    {
     "name": "stdout",
     "output_type": "stream",
     "text": [
      "(50, 2) (50, 2)\n"
     ]
    }
   ],
   "source": [
    "Xy0 = X[y==0]\n",
    "Xy1 = X[y==1]\n",
    "print(Xy0.shape,Xy1.shape)"
   ]
  },
  {
   "cell_type": "code",
   "execution_count": 52,
   "id": "0e5c0f9c",
   "metadata": {},
   "outputs": [
    {
     "name": "stdout",
     "output_type": "stream",
     "text": [
      "0.5 0.5\n"
     ]
    }
   ],
   "source": [
    "#making ratio of data with y=0 with whole data\n",
    "#making ratio of data with y=1 with whole data\n",
    "priory0 = len(Xy0)/len(X)\n",
    "priory1 = len(Xy1)/len(X)\n",
    "print(priory0,priory1)"
   ]
  },
  {
   "cell_type": "code",
   "execution_count": 53,
   "id": "7b86740a",
   "metadata": {
    "scrolled": true
   },
   "outputs": [
    {
     "name": "stdout",
     "output_type": "stream",
     "text": [
      "-1.5632888906409914 0.787444265443213\n",
      "4.426680361487157 0.958296071258367\n",
      "-9.681177100524485 0.8943078901048118\n",
      "-3.9713794295185845 0.9308177595208521\n"
     ]
    }
   ],
   "source": [
    "distX1y0 = fit_distribution(Xy0[:,0])\n",
    "distX2y0 = fit_distribution(Xy0[:,1])\n",
    "\n",
    "distX1y1 = fit_distribution(Xy1[:,0])\n",
    "distX2y1 = fit_distribution(Xy1[:,1])"
   ]
  },
  {
   "cell_type": "code",
   "execution_count": 54,
   "id": "dc25993f",
   "metadata": {},
   "outputs": [],
   "source": [
    "#this is where we update the information, we calculate the probability density of Data that we want to check \n",
    "#whether the Y belong to 1 or 0.\n",
    "def probability(X_input,prior,dist1,dist2):\n",
    "    print(X_input[0])\n",
    "    print(X_input[1])\n",
    "    return prior*dist1.pdf(X_input[0])*dist2.pdf(X_input[1])\n",
    "    "
   ]
  },
  {
   "cell_type": "code",
   "execution_count": 55,
   "id": "8c97df35",
   "metadata": {},
   "outputs": [],
   "source": [
    "#this is the data that we want to check.\n",
    "Xsample,ysample = X[1],y[1]"
   ]
  },
  {
   "cell_type": "code",
   "execution_count": 60,
   "id": "d99ae66d",
   "metadata": {},
   "outputs": [
    {
     "name": "stdout",
     "output_type": "stream",
     "text": [
      "[-9.15155186 -4.81286449]\n"
     ]
    }
   ],
   "source": [
    "print(X[1])"
   ]
  },
  {
   "cell_type": "code",
   "execution_count": 59,
   "id": "7154f4d5",
   "metadata": {},
   "outputs": [
    {
     "name": "stdout",
     "output_type": "stream",
     "text": [
      "-9.151551856068068\n",
      "-4.812864488195191\n",
      "-9.151551856068068\n",
      "-4.812864488195191\n",
      "P(y=0|[-9.15155186 -4.81286449]) = 0.00\n",
      "P(y=1|[-9.15155186 -4.81286449]) = 5.33\n",
      "Truth:y=1\n"
     ]
    }
   ],
   "source": [
    "py0 = probability(Xsample,priory0,distX1y0,distX2y0)\n",
    "py1 = probability(Xsample,priory1,distX1y1,distX2y1)\n",
    "print('P(y=0|%s) = %.2f'%(Xsample,py0*100)) \n",
    "print('P(y=1|%s) = %.2f'%(Xsample,py1*100)) \n",
    "\n",
    "print('Truth:y=%d'%ysample)"
   ]
  },
  {
   "cell_type": "code",
   "execution_count": 57,
   "id": "52a34a8d",
   "metadata": {},
   "outputs": [
    {
     "data": {
      "text/plain": [
       "array([3.08359954e-13, 1.84653724e-03])"
      ]
     },
     "execution_count": 57,
     "metadata": {},
     "output_type": "execute_result"
    }
   ],
   "source": [
    "distX1y0.pdf(X[4])"
   ]
  },
  {
   "cell_type": "code",
   "execution_count": 58,
   "id": "39877274",
   "metadata": {},
   "outputs": [
    {
     "data": {
      "text/plain": [
       "[array([False,  True, False, False,  True,  True,  True,  True, False,\n",
       "        False,  True, False,  True, False,  True,  True,  True, False,\n",
       "        False,  True,  True,  True,  True, False, False,  True,  True,\n",
       "        False, False,  True, False, False,  True, False,  True,  True,\n",
       "        False,  True,  True,  True,  True,  True, False,  True, False,\n",
       "         True, False, False, False, False, False,  True,  True,  True,\n",
       "        False,  True, False,  True, False, False, False,  True,  True,\n",
       "         True,  True,  True, False,  True, False, False,  True,  True,\n",
       "         True, False, False, False,  True,  True, False, False, False,\n",
       "         True, False,  True, False, False, False, False, False, False,\n",
       "         True, False, False, False,  True,  True,  True, False,  True,\n",
       "        False])]"
      ]
     },
     "execution_count": 58,
     "metadata": {},
     "output_type": "execute_result"
    }
   ],
   "source": [
    "[y==1]  "
   ]
  },
  {
   "cell_type": "code",
   "execution_count": null,
   "id": "a1f71fb3",
   "metadata": {},
   "outputs": [],
   "source": []
  }
 ],
 "metadata": {
  "kernelspec": {
   "display_name": "Python 3 (ipykernel)",
   "language": "python",
   "name": "python3"
  },
  "language_info": {
   "codemirror_mode": {
    "name": "ipython",
    "version": 3
   },
   "file_extension": ".py",
   "mimetype": "text/x-python",
   "name": "python",
   "nbconvert_exporter": "python",
   "pygments_lexer": "ipython3",
   "version": "3.8.10"
  }
 },
 "nbformat": 4,
 "nbformat_minor": 5
}
