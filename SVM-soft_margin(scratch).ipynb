{
 "cells": [
  {
   "cell_type": "markdown",
   "id": "d262879c",
   "metadata": {},
   "source": [
    "# SVM with Soft-margin"
   ]
  },
  {
   "cell_type": "code",
   "execution_count": 2,
   "id": "20333a22",
   "metadata": {},
   "outputs": [],
   "source": [
    "from cvxopt import matrix\n",
    "from cvxopt import solvers\n",
    "import numpy as np\n",
    "import matplotlib.pyplot as plt\n",
    "from matplotlib import style\n",
    "style.use('ggplot')"
   ]
  },
  {
   "cell_type": "code",
   "execution_count": 6,
   "id": "55aa0856",
   "metadata": {},
   "outputs": [],
   "source": [
    "def split_train(X1,y1,X2,y2):\n",
    "    #we get fetch train-data from both positive and negative label\n",
    "    #we get fetch 80 datas(1-80) from each of them\n",
    "    X1_train = X1[:80]\n",
    "    y1_train = y1[:80]\n",
    "    \n",
    "    X2_train = X2[:80]\n",
    "    y2_train = y2[:80]\n",
    "    \n",
    "    #Tumpukan vertikal\n",
    "    X_train = np.vstack((X1_train,X2_train))\n",
    "    #tumpukan horizontal\n",
    "    y_train = np.hstack((y1_train,y2_train))\n",
    "    \n",
    "    return X_train,y_train"
   ]
  },
  {
   "cell_type": "code",
   "execution_count": 12,
   "id": "f4f8b5fb",
   "metadata": {},
   "outputs": [],
   "source": [
    "def linear_kernel(X1, X2):\n",
    "    return np.dot(X1, X2)\n"
   ]
  },
  {
   "cell_type": "code",
   "execution_count": 13,
   "id": "1dd512ea",
   "metadata": {},
   "outputs": [],
   "source": [
    "mean1_2 = np.array([2,4])\n",
    "mean2_2 = np.array([1,0])\n",
    "cov2 = np.array([[1,-0.4],[-0.4,1]])\n",
    "\n",
    "x1_2 = np.random.multivariate_normal(mean1_2,cov2,100)\n",
    "y1_2 = np.ones(len(x1_2))\n",
    "x2_2 = np.random.multivariate_normal(mean2_2,cov2,100)\n",
    "y2_2 = np.ones(len(x2_2))*-1"
   ]
  },
  {
   "cell_type": "code",
   "execution_count": 14,
   "id": "0cdbe531",
   "metadata": {},
   "outputs": [
    {
     "data": {
      "text/plain": [
       "[<matplotlib.lines.Line2D at 0x1836c5fa640>]"
      ]
     },
     "execution_count": 14,
     "metadata": {},
     "output_type": "execute_result"
    },
    {
     "data": {
      "image/png": "[encoded data removed]",
      "text/plain": [
       "<Figure size 432x288 with 1 Axes>"
      ]
     },
     "metadata": {},
     "output_type": "display_data"
    }
   ],
   "source": [
    "plt.plot(x1_2[:,0],x1_2[:,1],'o',color='black')\n",
    "plt.plot(x2_2[:,0],x2_2[:,1],'o',color='yellow')"
   ]
  },
  {
   "cell_type": "code",
   "execution_count": 15,
   "id": "663cc2a1",
   "metadata": {},
   "outputs": [],
   "source": [
    "x_train_2,y_train_2 = split_train(x1_2,y1_2,x2_2,y2_2)\n"
   ]
  },
  {
   "cell_type": "code",
   "execution_count": 16,
   "id": "f4e1b9ef",
   "metadata": {},
   "outputs": [],
   "source": [
    "n_samples2 = x_train_2.shape[0]\n",
    "K2 = np.zeros((n_samples2,n_samples2))"
   ]
  },
  {
   "cell_type": "code",
   "execution_count": 17,
   "id": "2091547f",
   "metadata": {},
   "outputs": [],
   "source": [
    "\n",
    "for i in range(n_samples2):\n",
    "    for j in range(n_samples2):\n",
    "        K2[i,j]= linear_kernel(x_train_2[i],x_train_2[j])"
   ]
  },
  {
   "cell_type": "code",
   "execution_count": 19,
   "id": "5666c28a",
   "metadata": {},
   "outputs": [],
   "source": [
    "P2 = matrix(np.outer(y_train_2,y_train_2)*K2)"
   ]
  },
  {
   "cell_type": "code",
   "execution_count": 20,
   "id": "c6ceeac8",
   "metadata": {},
   "outputs": [
    {
     "name": "stdout",
     "output_type": "stream",
     "text": [
      "[ 1.95e+01  1.64e+01  2.71e+01  1.26e+01  2.47e+01  1.97e+01  1.40e+01 ... ]\n",
      "[ 1.64e+01  1.41e+01  2.30e+01  8.81e+00  2.08e+01  1.58e+01  1.04e+01 ... ]\n",
      "[ 2.71e+01  2.30e+01  3.79e+01  1.64e+01  3.44e+01  2.69e+01  1.86e+01 ... ]\n",
      "[ 1.26e+01  8.81e+00  1.64e+01  1.62e+01  1.59e+01  1.62e+01  1.51e+01 ... ]\n",
      "[ 2.47e+01  2.08e+01  3.44e+01  1.59e+01  3.13e+01  2.49e+01  1.77e+01 ... ]\n",
      "[ 1.97e+01  1.58e+01  2.69e+01  1.62e+01  2.49e+01  2.14e+01  1.67e+01 ... ]\n",
      "[ 1.40e+01  1.04e+01  1.86e+01  1.51e+01  1.77e+01  1.67e+01  1.46e+01 ... ]\n",
      "[ 1.34e+01  1.06e+01  1.82e+01  1.16e+01  1.70e+01  1.48e+01  1.18e+01 ... ]\n",
      "[ 1.67e+01  1.27e+01  2.23e+01  1.66e+01  2.11e+01  1.94e+01  1.64e+01 ... ]\n",
      "[ 2.34e+01  2.09e+01  3.34e+01  9.60e+00  2.98e+01  2.13e+01  1.27e+01 ... ]\n",
      "[ 1.25e+01  9.80e+00  1.70e+01  1.14e+01  1.59e+01  1.41e+01  1.15e+01 ... ]\n",
      "[ 2.56e+01  2.05e+01  3.50e+01  2.14e+01  3.25e+01  2.80e+01  2.20e+01 ... ]\n",
      "[ 2.41e+01  2.01e+01  3.34e+01  1.59e+01  3.05e+01  2.45e+01  1.76e+01 ... ]\n",
      "[ 2.94e+01  2.47e+01  4.10e+01  1.92e+01  3.73e+01  2.98e+01  2.13e+01 ... ]\n",
      "[ 1.59e+01  1.14e+01  2.09e+01  1.91e+01  2.01e+01  1.98e+01  1.80e+01 ... ]\n",
      "[ 1.92e+01  1.60e+01  2.66e+01  1.30e+01  2.43e+01  1.97e+01  1.43e+01 ... ]\n",
      "[ 2.62e+01  2.22e+01  3.65e+01  1.62e+01  3.32e+01  2.62e+01  1.83e+01 ... ]\n",
      "[ 1.67e+01  1.31e+01  2.27e+01  1.49e+01  2.11e+01  1.86e+01  1.50e+01 ... ]\n",
      "[ 2.68e+01  2.21e+01  3.70e+01  1.90e+01  3.40e+01  2.78e+01  2.05e+01 ... ]\n",
      "[ 2.36e+01  1.95e+01  3.26e+01  1.70e+01  3.00e+01  2.47e+01  1.83e+01 ... ]\n",
      "[ 2.17e+01  1.67e+01  2.91e+01  2.08e+01  2.74e+01  2.48e+01  2.07e+01 ... ]\n",
      "[ 1.55e+01  1.13e+01  2.04e+01  1.80e+01  1.96e+01  1.91e+01  1.71e+01 ... ]\n",
      "[ 2.38e+01  1.99e+01  3.30e+01  1.58e+01  3.01e+01  2.42e+01  1.74e+01 ... ]\n",
      "[ 2.74e+01  2.26e+01  3.78e+01  1.93e+01  3.47e+01  2.83e+01  2.09e+01 ... ]\n",
      "[ 2.01e+01  1.57e+01  2.72e+01  1.84e+01  2.55e+01  2.27e+01  1.85e+01 ... ]\n",
      "[ 2.29e+01  1.95e+01  3.20e+01  1.38e+01  2.90e+01  2.27e+01  1.57e+01 ... ]\n",
      "[ 2.30e+01  1.89e+01  3.18e+01  1.68e+01  2.92e+01  2.41e+01  1.80e+01 ... ]\n",
      "[ 1.72e+01  1.57e+01  2.48e+01  5.23e+00  2.18e+01  1.49e+01  7.96e+00 ... ]\n",
      "[ 2.29e+01  1.85e+01  3.14e+01  1.82e+01  2.90e+01  2.47e+01  1.90e+01 ... ]\n",
      "[ 1.67e+01  1.41e+01  2.33e+01  1.06e+01  2.12e+01  1.68e+01  1.19e+01 ... ]\n",
      "[ 2.31e+01  1.93e+01  3.20e+01  1.54e+01  2.92e+01  2.35e+01  1.70e+01 ... ]\n",
      "[ 1.34e+01  9.09e+00  1.72e+01  1.85e+01  1.69e+01  1.77e+01  1.70e+01 ... ]\n",
      "[ 1.65e+01  1.36e+01  2.28e+01  1.19e+01  2.09e+01  1.72e+01  1.28e+01 ... ]\n",
      "[ 1.85e+01  1.46e+01  2.51e+01  1.63e+01  2.34e+01  2.05e+01  1.65e+01 ... ]\n",
      "[ 1.82e+01  1.50e+01  2.51e+01  1.34e+01  2.31e+01  1.91e+01  1.43e+01 ... ]\n",
      "[ 1.58e+01  1.36e+01  2.22e+01  8.49e+00  2.00e+01  1.52e+01  1.01e+01 ... ]\n",
      "[ 1.92e+01  1.60e+01  2.66e+01  1.34e+01  2.44e+01  1.99e+01  1.45e+01 ... ]\n",
      "[ 2.44e+01  2.11e+01  3.44e+01  1.30e+01  3.10e+01  2.35e+01  1.55e+01 ... ]\n",
      "[ 2.64e+01  2.14e+01  3.62e+01  2.06e+01  3.34e+01  2.82e+01  2.16e+01 ... ]\n",
      "[ 2.21e+01  1.85e+01  3.07e+01  1.48e+01  2.80e+01  2.26e+01  1.62e+01 ... ]\n",
      "[ 2.21e+01  1.81e+01  3.04e+01  1.64e+01  2.80e+01  2.32e+01  1.74e+01 ... ]\n",
      "[ 1.98e+01  1.48e+01  2.63e+01  2.12e+01  2.50e+01  2.36e+01  2.05e+01 ... ]\n",
      "[ 1.56e+01  1.23e+01  2.11e+01  1.36e+01  1.97e+01  1.73e+01  1.39e+01 ... ]\n",
      "[ 2.37e+01  1.92e+01  3.25e+01  1.88e+01  3.00e+01  2.55e+01  1.97e+01 ... ]\n",
      "[ 1.59e+01  1.21e+01  2.12e+01  1.61e+01  2.01e+01  1.85e+01  1.58e+01 ... ]\n",
      "[ 1.94e+01  1.50e+01  2.61e+01  1.82e+01  2.45e+01  2.20e+01  1.81e+01 ... ]\n",
      "[ 1.49e+01  1.23e+01  2.06e+01  1.08e+01  1.89e+01  1.56e+01  1.16e+01 ... ]\n",
      "[ 1.80e+01  1.50e+01  2.50e+01  1.26e+01  2.29e+01  1.86e+01  1.37e+01 ... ]\n",
      "[ 1.75e+01  1.27e+01  2.30e+01  2.02e+01  2.21e+01  2.15e+01  1.92e+01 ... ]\n",
      "[ 2.68e+01  2.21e+01  3.70e+01  1.90e+01  3.39e+01  2.78e+01  2.05e+01 ... ]\n",
      "[ 2.39e+01  1.93e+01  3.28e+01  1.89e+01  3.03e+01  2.57e+01  1.98e+01 ... ]\n",
      "[ 2.18e+01  1.84e+01  3.04e+01  1.38e+01  2.77e+01  2.19e+01  1.54e+01 ... ]\n",
      "[ 1.46e+01  1.30e+01  2.08e+01  6.34e+00  1.86e+01  1.35e+01  8.19e+00 ... ]\n",
      "[ 1.65e+01  1.28e+01  2.22e+01  1.54e+01  2.08e+01  1.87e+01  1.54e+01 ... ]\n",
      "[ 1.72e+01  1.40e+01  2.36e+01  1.31e+01  2.17e+01  1.82e+01  1.38e+01 ... ]\n",
      "[ 2.37e+01  1.94e+01  3.27e+01  1.77e+01  3.01e+01  2.50e+01  1.88e+01 ... ]\n",
      "[ 1.67e+01  1.34e+01  2.29e+01  1.36e+01  2.12e+01  1.81e+01  1.41e+01 ... ]\n",
      "[ 2.15e+01  1.68e+01  2.91e+01  1.97e+01  2.72e+01  2.42e+01  1.98e+01 ... ]\n",
      "[ 2.64e+01  2.22e+01  3.67e+01  1.68e+01  3.34e+01  2.66e+01  1.88e+01 ... ]\n",
      "[ 2.07e+01  1.58e+01  2.78e+01  2.06e+01  2.62e+01  2.40e+01  2.03e+01 ... ]\n",
      "[ 1.94e+01  1.44e+01  2.58e+01  2.13e+01  2.45e+01  2.34e+01  2.05e+01 ... ]\n",
      "[ 2.17e+01  1.74e+01  2.96e+01  1.74e+01  2.74e+01  2.34e+01  1.81e+01 ... ]\n",
      "[ 1.31e+01  1.04e+01  1.78e+01  1.11e+01  1.65e+01  1.43e+01  1.14e+01 ... ]\n",
      "[ 2.07e+01  1.67e+01  2.83e+01  1.66e+01  2.62e+01  2.23e+01  1.73e+01 ... ]\n",
      "[ 2.72e+01  2.27e+01  3.77e+01  1.81e+01  3.45e+01  2.77e+01  2.00e+01 ... ]\n",
      "[ 1.60e+01  1.32e+01  2.22e+01  1.14e+01  2.03e+01  1.66e+01  1.23e+01 ... ]\n",
      "[ 1.76e+01  1.46e+01  2.44e+01  1.25e+01  2.23e+01  1.83e+01  1.35e+01 ... ]\n",
      "[ 2.48e+01  2.01e+01  3.41e+01  1.94e+01  3.15e+01  2.66e+01  2.04e+01 ... ]\n",
      "[ 1.82e+01  1.42e+01  2.46e+01  1.67e+01  2.30e+01  2.05e+01  1.67e+01 ... ]\n",
      "[ 1.86e+01  1.68e+01  2.66e+01  6.68e+00  2.36e+01  1.65e+01  9.37e+00 ... ]\n",
      "[ 1.73e+01  1.46e+01  2.42e+01  1.11e+01  2.20e+01  1.75e+01  1.24e+01 ... ]\n",
      "[ 1.52e+01  1.07e+01  1.98e+01  1.93e+01  1.92e+01  1.94e+01  1.80e+01 ... ]\n",
      "[ 2.53e+01  2.09e+01  3.50e+01  1.79e+01  3.21e+01  2.63e+01  1.93e+01 ... ]\n",
      "[ 2.45e+01  2.09e+01  3.43e+01  1.48e+01  3.11e+01  2.44e+01  1.68e+01 ... ]\n",
      "[ 1.55e+01  1.28e+01  2.14e+01  1.09e+01  1.96e+01  1.60e+01  1.18e+01 ... ]\n",
      "[ 2.24e+01  1.83e+01  3.09e+01  1.70e+01  2.84e+01  2.38e+01  1.80e+01 ... ]\n",
      "[ 2.17e+01  1.83e+01  3.02e+01  1.37e+01  2.75e+01  2.18e+01  1.54e+01 ... ]\n",
      "[ 1.77e+01  1.36e+01  2.38e+01  1.73e+01  2.24e+01  2.04e+01  1.71e+01 ... ]\n",
      "[ 1.39e+01  1.02e+01  1.84e+01  1.59e+01  1.76e+01  1.70e+01  1.52e+01 ... ]\n",
      "[ 2.42e+01  1.97e+01  3.33e+01  1.86e+01  3.07e+01  2.58e+01  1.96e+01 ... ]\n",
      "[-6.50e+00 -6.09e+00 -9.46e+00 -1.31e+00 -8.27e+00 -5.34e+00 -2.51e+00 ... ]\n",
      "[-1.81e+00 -9.05e-01 -2.11e+00 -3.99e+00 -2.27e+00 -3.04e+00 -3.41e+00 ... ]\n",
      "[ 7.58e-01  9.47e-01  1.26e+00 -9.27e-01  9.75e-01  1.61e-01 -5.14e-01 ... ]\n",
      "[-2.18e+00 -1.14e+00 -2.58e+00 -4.56e+00 -2.74e+00 -3.56e+00 -3.93e+00 ... ]\n",
      "[-5.20e+00 -4.31e+00 -7.19e+00 -3.61e+00 -6.59e+00 -5.36e+00 -3.92e+00 ... ]\n",
      "[-3.60e+00 -2.15e+00 -4.43e+00 -6.36e+00 -4.53e+00 -5.37e+00 -5.61e+00 ... ]\n",
      "[-1.78e+00 -8.62e-01 -2.06e+00 -4.05e+00 -2.23e+00 -3.04e+00 -3.45e+00 ... ]\n",
      "[ 1.21e-01  3.06e-03  1.03e-01  5.27e-01  1.49e-01  3.14e-01  4.22e-01 ... ]\n",
      "[ 1.75e+00  2.43e+00  3.08e+00 -3.24e+00  2.27e+00 -9.74e-02 -2.01e+00 ... ]\n",
      "[-5.35e+00 -4.30e+00 -7.32e+00 -4.37e+00 -6.78e+00 -5.80e+00 -4.53e+00 ... ]\n",
      "[ 4.08e+00  4.98e+00  6.71e+00 -4.43e+00  5.24e+00  1.11e+00 -2.35e+00 ... ]\n",
      "[ 1.67e+00  2.11e+00  2.79e+00 -2.11e+00  2.15e+00  3.29e-01 -1.18e+00 ... ]\n",
      "[-1.48e+00 -1.14e+00 -1.99e+00 -1.41e+00 -1.87e+00 -1.69e+00 -1.40e+00 ... ]\n",
      "[-5.52e-01 -8.34e-01 -1.01e+00  1.33e+00 -7.17e-01  1.63e-01  8.65e-01 ... ]\n",
      "[-5.42e+00 -4.28e+00 -7.36e+00 -4.76e+00 -6.86e+00 -6.02e+00 -4.84e+00 ... ]\n",
      "[ 5.94e+00  5.90e+00  8.87e+00 -3.12e-01  7.57e+00  4.23e+00  1.16e+00 ... ]\n",
      "[ 2.17e+00  2.81e+00  3.67e+00 -3.11e+00  2.79e+00  2.63e-01 -1.81e+00 ... ]\n",
      "[ 3.88e-01  1.20e+00  1.12e+00 -3.72e+00  5.30e-01 -1.31e+00 -2.69e+00 ... ]\n",
      "[-5.99e+00 -5.15e+00 -8.42e+00 -3.36e+00 -7.61e+00 -5.84e+00 -3.92e+00 ... ]\n",
      "[-5.71e+00 -5.52e+00 -8.42e+00 -3.96e-01 -7.27e+00 -4.36e+00 -1.64e+00 ... ]\n",
      "[-8.06e+00 -6.16e+00 -1.08e+01 -8.00e+00 -1.02e+01 -9.34e+00 -7.88e+00 ... ]\n",
      "[ 2.81e+00  3.31e+00  4.55e+00 -2.52e+00  3.61e+00  9.92e-01 -1.22e+00 ... ]\n",
      "[ 1.06e+01  1.12e+01  1.63e+01 -3.59e+00  1.36e+01  6.29e+00 -1.81e-01 ... ]\n",
      "[ 3.57e+00  3.71e+00  5.44e+00 -9.59e-01  4.56e+00  2.21e+00  1.23e-01 ... ]\n",
      "[-1.40e+00 -4.40e-01 -1.46e+00 -4.25e+00 -1.74e+00 -2.84e+00 -3.51e+00 ... ]\n",
      "[-1.78e+00  2.53e-01 -1.32e+00 -9.15e+00 -2.18e+00 -5.22e+00 -7.26e+00 ... ]\n",
      "[-5.25e+00 -2.94e+00 -6.33e+00 -1.01e+01 -6.60e+00 -8.20e+00 -8.82e+00 ... ]\n",
      "[-3.41e+00 -3.16e+00 -4.94e+00 -8.88e-01 -4.34e+00 -2.89e+00 -1.47e+00 ... ]\n",
      "[-3.69e+00 -2.24e+00 -4.57e+00 -6.32e+00 -4.64e+00 -5.42e+00 -5.59e+00 ... ]\n",
      "[-3.60e+00 -2.84e+00 -4.89e+00 -3.18e+00 -4.56e+00 -4.01e+00 -3.23e+00 ... ]\n",
      "[-9.67e+00 -7.86e+00 -1.33e+01 -7.49e+00 -1.23e+01 -1.03e+01 -7.88e+00 ... ]\n",
      "[ 2.25e+00  3.16e+00  3.97e+00 -4.36e+00  2.91e+00 -2.12e-01 -2.73e+00 ... ]\n",
      "[ 2.88e+00  2.52e+00  4.07e+00  1.39e+00  3.65e+00  2.71e+00  1.72e+00 ... ]\n",
      "[ 9.41e-01  2.29e+00  2.30e+00 -6.23e+00  1.26e+00 -1.97e+00 -4.44e+00 ... ]\n",
      "[-5.42e+00 -3.75e+00 -7.02e+00 -7.17e+00 -6.84e+00 -7.05e+00 -6.64e+00 ... ]\n",
      "[ 7.97e+00  7.20e+00  1.14e+01  2.83e+00  1.01e+01  7.07e+00  3.99e+00 ... ]\n",
      "[-4.33e+00 -2.97e+00 -5.58e+00 -5.89e+00 -5.47e+00 -5.70e+00 -5.42e+00 ... ]\n",
      "[ 2.48e+00  2.52e+00  3.74e+00 -3.66e-01  3.17e+00  1.67e+00  3.11e-01 ... ]\n",
      "[-2.77e+00 -2.07e+00 -3.69e+00 -2.98e+00 -3.50e+00 -3.31e+00 -2.88e+00 ... ]\n",
      "[ 3.56e+00  6.03e+00  6.97e+00 -1.16e+01  4.64e+00 -2.35e+00 -7.85e+00 ... ]\n",
      "[-5.48e-01 -5.12e-01 -7.97e-01 -1.17e-01 -6.97e-01 -4.53e-01 -2.16e-01 ... ]\n",
      "[ 7.90e-01  6.32e-01  1.08e+00  6.57e-01  1.00e+00  8.62e-01  6.78e-01 ... ]\n",
      "[ 3.54e+00  3.48e+00  5.27e+00 -1.65e-02  4.52e+00  2.60e+00  8.22e-01 ... ]\n",
      "[-4.12e+00 -3.69e+00 -5.88e+00 -1.61e+00 -5.23e+00 -3.71e+00 -2.17e+00 ... ]\n",
      "[ 9.77e-01  1.56e+00  1.85e+00 -2.76e+00  1.27e+00 -4.64e-01 -1.84e+00 ... ]\n",
      "[-6.07e+00 -4.86e+00 -8.28e+00 -5.04e+00 -7.69e+00 -6.62e+00 -5.20e+00 ... ]\n",
      "[-1.90e+00 -1.63e+00 -2.67e+00 -1.09e+00 -2.41e+00 -1.87e+00 -1.26e+00 ... ]\n",
      "[-3.50e+00 -2.60e+00 -4.64e+00 -3.81e+00 -4.42e+00 -4.20e+00 -3.67e+00 ... ]\n",
      "[-3.38e-01  1.42e-01 -1.88e-01 -2.17e+00 -4.10e-01 -1.17e+00 -1.70e+00 ... ]\n",
      "[-4.65e+00 -3.81e+00 -6.41e+00 -3.47e+00 -5.89e+00 -4.90e+00 -3.69e+00 ... ]\n",
      "[ 6.83e-01  1.62e+00  1.64e+00 -4.33e+00  9.12e-01 -1.35e+00 -3.08e+00 ... ]\n",
      "[ 1.73e+00  2.66e+00  3.21e+00 -4.41e+00  2.25e+00 -6.13e-01 -2.89e+00 ... ]\n",
      "[-2.24e+00 -1.43e+00 -2.82e+00 -3.49e+00 -2.82e+00 -3.13e+00 -3.13e+00 ... ]\n",
      "[ 3.27e+00  4.80e+00  5.91e+00 -7.26e+00  4.24e+00 -7.01e-01 -4.66e+00 ... ]\n",
      "[-3.39e+00 -3.07e+00 -4.87e+00 -1.19e+00 -4.31e+00 -3.00e+00 -1.69e+00 ... ]\n",
      "[-4.42e+00 -4.64e+00 -6.77e+00  1.38e+00 -5.65e+00 -2.66e+00 -8.76e-03 ... ]\n",
      "[-9.76e-01 -1.15e+00 -1.58e+00  8.94e-01 -1.25e+00 -3.35e-01  4.38e-01 ... ]\n",
      "[-2.96e+00 -2.55e+00 -4.16e+00 -1.65e+00 -3.76e+00 -2.88e+00 -1.93e+00 ... ]\n",
      "[ 2.17e+00  1.53e+00  2.82e+00  2.71e+00  2.73e+00  2.75e+00  2.54e+00 ... ]\n",
      "[-4.76e+00 -3.59e+00 -6.35e+00 -4.92e+00 -6.01e+00 -5.60e+00 -4.80e+00 ... ]\n",
      "[ 3.97e+00  4.99e+00  6.62e+00 -5.01e+00  5.10e+00  7.72e-01 -2.81e+00 ... ]\n",
      "[ 2.84e+00  3.73e+00  4.84e+00 -4.30e+00  3.66e+00  2.49e-01 -2.54e+00 ... ]\n",
      "[-3.94e-01  5.38e-01  2.80e-02 -4.22e+00 -4.61e-01 -2.10e+00 -3.25e+00 ... ]\n",
      "[ 6.52e-01  1.40e-01  6.37e-01  2.28e+00  8.09e-01  1.45e+00  1.86e+00 ... ]\n",
      "[-4.82e+00 -3.47e+00 -6.33e+00 -5.79e+00 -6.09e+00 -6.02e+00 -5.46e+00 ... ]\n",
      "[-9.30e+00 -8.32e+00 -1.33e+01 -3.68e+00 -1.18e+01 -8.41e+00 -4.94e+00 ... ]\n",
      "[ 8.02e-01  8.37e-01  1.22e+00 -2.29e-01  1.02e+00  4.91e-01  1.75e-02 ... ]\n",
      "[-3.83e-01  4.09e-01 -4.87e-02 -3.58e+00 -4.54e-01 -1.81e+00 -2.77e+00 ... ]\n",
      "[-3.83e+00 -2.45e+00 -4.82e+00 -5.97e+00 -4.82e+00 -5.37e+00 -5.37e+00 ... ]\n",
      "[-2.86e-01  3.22e-01 -2.48e-02 -2.75e+00 -3.38e-01 -1.39e+00 -2.13e+00 ... ]\n",
      "[-8.00e+00 -6.22e+00 -1.08e+01 -7.50e+00 -1.01e+01 -9.09e+00 -7.49e+00 ... ]\n",
      "[ 9.22e-01  3.53e-01  1.00e+00  2.52e+00  1.15e+00  1.75e+00  2.10e+00 ... ]\n",
      "[-2.47e+00 -1.17e+00 -2.84e+00 -5.72e+00 -3.09e+00 -4.26e+00 -4.86e+00 ... ]\n",
      "[-2.86e+00 -2.33e+00 -3.93e+00 -2.16e+00 -3.62e+00 -3.02e+00 -2.28e+00 ... ]\n",
      "[ 2.06e+00  2.85e+00  3.61e+00 -3.79e+00  2.66e+00 -1.06e-01 -2.35e+00 ... ]\n",
      "[ 4.50e+00  4.89e+00  7.00e+00 -2.18e+00  5.75e+00  2.37e+00 -5.75e-01 ... ]\n",
      "[-6.52e+00 -4.61e+00 -8.49e+00 -8.18e+00 -8.22e+00 -8.29e+00 -7.65e+00 ... ]\n",
      "[-3.94e+00 -3.67e+00 -5.72e+00 -9.04e-01 -5.01e+00 -3.28e+00 -1.60e+00 ... ]\n",
      "[-3.94e+00 -2.17e+00 -4.73e+00 -7.75e+00 -4.95e+00 -6.21e+00 -6.72e+00 ... ]\n",
      "[ 4.96e+00  5.53e+00  7.81e+00 -2.99e+00  6.36e+00  2.37e+00 -1.07e+00 ... ]\n",
      "\n"
     ]
    }
   ],
   "source": [
    "print(P2)"
   ]
  },
  {
   "cell_type": "code",
   "execution_count": 21,
   "id": "1388174f",
   "metadata": {},
   "outputs": [
    {
     "data": {
      "text/plain": [
       "(160, 160)"
      ]
     },
     "execution_count": 21,
     "metadata": {},
     "output_type": "execute_result"
    }
   ],
   "source": [
    "P2.size"
   ]
  },
  {
   "cell_type": "code",
   "execution_count": 22,
   "id": "2f31c0ba",
   "metadata": {},
   "outputs": [
    {
     "name": "stdout",
     "output_type": "stream",
     "text": [
      "[ 1.00e+00  1.00e+00  1.00e+00  1.00e+00  1.00e+00  1.00e+00  1.00e+00 ... ]\n",
      "\n"
     ]
    }
   ],
   "source": [
    "A2 = matrix(y_train_2,(1,n_samples2),'d')\n",
    "print(A2)"
   ]
  },
  {
   "cell_type": "code",
   "execution_count": 23,
   "id": "d0aeff68",
   "metadata": {},
   "outputs": [
    {
     "name": "stdout",
     "output_type": "stream",
     "text": [
      "[-1.00e+00]\n",
      "[-1.00e+00]\n",
      "[-1.00e+00]\n",
      "[-1.00e+00]\n",
      "[-1.00e+00]\n",
      "[-1.00e+00]\n",
      "[-1.00e+00]\n",
      "[-1.00e+00]\n",
      "[-1.00e+00]\n",
      "[-1.00e+00]\n",
      "[-1.00e+00]\n",
      "[-1.00e+00]\n",
      "[-1.00e+00]\n",
      "[-1.00e+00]\n",
      "[-1.00e+00]\n",
      "[-1.00e+00]\n",
      "[-1.00e+00]\n",
      "[-1.00e+00]\n",
      "[-1.00e+00]\n",
      "[-1.00e+00]\n",
      "[-1.00e+00]\n",
      "[-1.00e+00]\n",
      "[-1.00e+00]\n",
      "[-1.00e+00]\n",
      "[-1.00e+00]\n",
      "[-1.00e+00]\n",
      "[-1.00e+00]\n",
      "[-1.00e+00]\n",
      "[-1.00e+00]\n",
      "[-1.00e+00]\n",
      "[-1.00e+00]\n",
      "[-1.00e+00]\n",
      "[-1.00e+00]\n",
      "[-1.00e+00]\n",
      "[-1.00e+00]\n",
      "[-1.00e+00]\n",
      "[-1.00e+00]\n",
      "[-1.00e+00]\n",
      "[-1.00e+00]\n",
      "[-1.00e+00]\n",
      "[-1.00e+00]\n",
      "[-1.00e+00]\n",
      "[-1.00e+00]\n",
      "[-1.00e+00]\n",
      "[-1.00e+00]\n",
      "[-1.00e+00]\n",
      "[-1.00e+00]\n",
      "[-1.00e+00]\n",
      "[-1.00e+00]\n",
      "[-1.00e+00]\n",
      "[-1.00e+00]\n",
      "[-1.00e+00]\n",
      "[-1.00e+00]\n",
      "[-1.00e+00]\n",
      "[-1.00e+00]\n",
      "[-1.00e+00]\n",
      "[-1.00e+00]\n",
      "[-1.00e+00]\n",
      "[-1.00e+00]\n",
      "[-1.00e+00]\n",
      "[-1.00e+00]\n",
      "[-1.00e+00]\n",
      "[-1.00e+00]\n",
      "[-1.00e+00]\n",
      "[-1.00e+00]\n",
      "[-1.00e+00]\n",
      "[-1.00e+00]\n",
      "[-1.00e+00]\n",
      "[-1.00e+00]\n",
      "[-1.00e+00]\n",
      "[-1.00e+00]\n",
      "[-1.00e+00]\n",
      "[-1.00e+00]\n",
      "[-1.00e+00]\n",
      "[-1.00e+00]\n",
      "[-1.00e+00]\n",
      "[-1.00e+00]\n",
      "[-1.00e+00]\n",
      "[-1.00e+00]\n",
      "[-1.00e+00]\n",
      "[-1.00e+00]\n",
      "[-1.00e+00]\n",
      "[-1.00e+00]\n",
      "[-1.00e+00]\n",
      "[-1.00e+00]\n",
      "[-1.00e+00]\n",
      "[-1.00e+00]\n",
      "[-1.00e+00]\n",
      "[-1.00e+00]\n",
      "[-1.00e+00]\n",
      "[-1.00e+00]\n",
      "[-1.00e+00]\n",
      "[-1.00e+00]\n",
      "[-1.00e+00]\n",
      "[-1.00e+00]\n",
      "[-1.00e+00]\n",
      "[-1.00e+00]\n",
      "[-1.00e+00]\n",
      "[-1.00e+00]\n",
      "[-1.00e+00]\n",
      "[-1.00e+00]\n",
      "[-1.00e+00]\n",
      "[-1.00e+00]\n",
      "[-1.00e+00]\n",
      "[-1.00e+00]\n",
      "[-1.00e+00]\n",
      "[-1.00e+00]\n",
      "[-1.00e+00]\n",
      "[-1.00e+00]\n",
      "[-1.00e+00]\n",
      "[-1.00e+00]\n",
      "[-1.00e+00]\n",
      "[-1.00e+00]\n",
      "[-1.00e+00]\n",
      "[-1.00e+00]\n",
      "[-1.00e+00]\n",
      "[-1.00e+00]\n",
      "[-1.00e+00]\n",
      "[-1.00e+00]\n",
      "[-1.00e+00]\n",
      "[-1.00e+00]\n",
      "[-1.00e+00]\n",
      "[-1.00e+00]\n",
      "[-1.00e+00]\n",
      "[-1.00e+00]\n",
      "[-1.00e+00]\n",
      "[-1.00e+00]\n",
      "[-1.00e+00]\n",
      "[-1.00e+00]\n",
      "[-1.00e+00]\n",
      "[-1.00e+00]\n",
      "[-1.00e+00]\n",
      "[-1.00e+00]\n",
      "[-1.00e+00]\n",
      "[-1.00e+00]\n",
      "[-1.00e+00]\n",
      "[-1.00e+00]\n",
      "[-1.00e+00]\n",
      "[-1.00e+00]\n",
      "[-1.00e+00]\n",
      "[-1.00e+00]\n",
      "[-1.00e+00]\n",
      "[-1.00e+00]\n",
      "[-1.00e+00]\n",
      "[-1.00e+00]\n",
      "[-1.00e+00]\n",
      "[-1.00e+00]\n",
      "[-1.00e+00]\n",
      "[-1.00e+00]\n",
      "[-1.00e+00]\n",
      "[-1.00e+00]\n",
      "[-1.00e+00]\n",
      "[-1.00e+00]\n",
      "[-1.00e+00]\n",
      "[-1.00e+00]\n",
      "[-1.00e+00]\n",
      "[-1.00e+00]\n",
      "[-1.00e+00]\n",
      "[-1.00e+00]\n",
      "[-1.00e+00]\n",
      "\n"
     ]
    }
   ],
   "source": [
    "q2 = matrix(np.ones(n_samples2)*-1)\n",
    "print(q2)"
   ]
  },
  {
   "cell_type": "code",
   "execution_count": 24,
   "id": "9eb26dd0",
   "metadata": {},
   "outputs": [
    {
     "name": "stdout",
     "output_type": "stream",
     "text": [
      "[ 0.00e+00]\n",
      "\n"
     ]
    }
   ],
   "source": [
    "b2 = matrix(0.0)\n",
    "print(b2)"
   ]
  },
  {
   "cell_type": "code",
   "execution_count": 25,
   "id": "962dd055",
   "metadata": {},
   "outputs": [],
   "source": [
    "C = 5\n",
    "\n",
    "if C is None or C==0:\n",
    "    G = matrix(np.diag(np.ones(n_samples2)*-1))\n",
    "    h = matrix(np.zeros(n_samples2))\n",
    "    \n",
    "else:\n",
    "    temp1_1 = np.diag(np.ones(n_samples2)*-1)\n",
    "    temp2_1 = np.identity(n_samples2)\n",
    "    G = matrix(np.vstack((temp1_1,temp2_1)))\n",
    "    temp1_2 = np.zeros(n_samples2)\n",
    "    temp2_2 = np.ones(n_samples2)*C\n",
    "    h = matrix(np.hstack((temp1_2,temp2_2)))"
   ]
  },
  {
   "cell_type": "code",
   "execution_count": 26,
   "id": "fbd7ac4e",
   "metadata": {},
   "outputs": [
    {
     "name": "stdout",
     "output_type": "stream",
     "text": [
      "     pcost       dcost       gap    pres   dres\n",
      " 0: -6.3595e+01 -2.8139e+03  8e+03  9e-01  7e-14\n",
      " 1: -2.8690e+01 -7.2151e+02  1e+03  9e-02  5e-14\n",
      " 2: -1.3501e+00 -1.1289e+02  2e+02  1e-02  4e-14\n",
      " 3:  2.0548e+00 -1.2752e+01  2e+01  6e-04  2e-14\n",
      " 4: -5.3914e-01 -5.4482e+00  5e+00  2e-04  7e-15\n",
      " 5: -2.1146e+00 -4.7686e+00  3e+00  5e-05  8e-15\n",
      " 6: -3.2040e+00 -3.2736e+00  7e-02  1e-06  1e-14\n",
      " 7: -3.2282e+00 -3.2289e+00  7e-04  1e-08  1e-14\n",
      " 8: -3.2284e+00 -3.2284e+00  7e-06  1e-10  1e-14\n",
      " 9: -3.2284e+00 -3.2284e+00  7e-08  1e-12  1e-14\n",
      "Optimal solution found.\n"
     ]
    }
   ],
   "source": [
    "solution2 = solvers.qp(P2,q2,G,h,A2,b2)"
   ]
  },
  {
   "cell_type": "code",
   "execution_count": 27,
   "id": "9604e14f",
   "metadata": {},
   "outputs": [],
   "source": [
    "alpha_2 = np.ravel(solution2['x'])"
   ]
  },
  {
   "cell_type": "code",
   "execution_count": 28,
   "id": "a2722c14",
   "metadata": {},
   "outputs": [],
   "source": [
    "w_2 = np.dot(np.ravel(matrix(y_train_2*alpha_2)),x_train_2)"
   ]
  },
  {
   "cell_type": "code",
   "execution_count": 29,
   "id": "56b7057e",
   "metadata": {},
   "outputs": [
    {
     "name": "stdout",
     "output_type": "stream",
     "text": [
      "[1.21558512 2.23140055]\n"
     ]
    }
   ],
   "source": [
    "print(w_2)"
   ]
  },
  {
   "cell_type": "code",
   "execution_count": 30,
   "id": "4ce2cbd6",
   "metadata": {},
   "outputs": [],
   "source": [
    "S_2 = (alpha_2>1e-1).flatten()"
   ]
  },
  {
   "cell_type": "code",
   "execution_count": 31,
   "id": "651608df",
   "metadata": {},
   "outputs": [
    {
     "data": {
      "text/plain": [
       "array([False, False, False, False, False, False, False, False, False,\n",
       "       False,  True, False, False, False, False, False, False, False,\n",
       "       False, False, False, False, False, False, False, False, False,\n",
       "       False, False, False, False, False, False, False, False, False,\n",
       "       False, False, False, False, False, False, False, False, False,\n",
       "       False, False, False, False, False, False, False,  True, False,\n",
       "       False, False, False, False, False, False, False, False, False,\n",
       "       False, False, False, False, False, False, False, False, False,\n",
       "       False, False, False, False, False, False, False, False, False,\n",
       "       False, False, False, False, False, False, False, False, False,\n",
       "       False, False, False, False, False, False, False, False, False,\n",
       "       False, False, False, False, False, False, False, False, False,\n",
       "       False, False,  True, False, False, False, False, False, False,\n",
       "       False, False, False, False, False, False, False, False, False,\n",
       "       False, False, False, False, False, False, False, False, False,\n",
       "       False, False, False, False, False, False, False, False, False,\n",
       "       False, False, False, False, False, False, False, False, False,\n",
       "       False, False, False, False, False, False, False])"
      ]
     },
     "execution_count": 31,
     "metadata": {},
     "output_type": "execute_result"
    }
   ],
   "source": [
    "S_2"
   ]
  },
  {
   "cell_type": "code",
   "execution_count": 32,
   "id": "78c12f4c",
   "metadata": {},
   "outputs": [
    {
     "data": {
      "text/plain": [
       "array([ 1.,  1., -1.])"
      ]
     },
     "execution_count": 32,
     "metadata": {},
     "output_type": "execute_result"
    }
   ],
   "source": [
    "y_train_2[S_2]"
   ]
  },
  {
   "cell_type": "code",
   "execution_count": 33,
   "id": "1adc6ee5",
   "metadata": {},
   "outputs": [
    {
     "data": {
      "text/plain": [
       "array([[ 1.94222735,  2.38287892],\n",
       "       [-0.10434607,  3.497777  ],\n",
       "       [ 1.04531558,  1.97518546]])"
      ]
     },
     "execution_count": 33,
     "metadata": {},
     "output_type": "execute_result"
    }
   ],
   "source": [
    "x_train_2[S_2]"
   ]
  },
  {
   "cell_type": "code",
   "execution_count": 35,
   "id": "43319a4f",
   "metadata": {},
   "outputs": [],
   "source": [
    "b_2 = y_train_2[S_2] - np.dot(x_train_2[S_2],w_2)"
   ]
  },
  {
   "cell_type": "code",
   "execution_count": 36,
   "id": "19021935",
   "metadata": {},
   "outputs": [
    {
     "data": {
      "text/plain": [
       "array([-6.67810001, -6.67810001, -6.67810001])"
      ]
     },
     "execution_count": 36,
     "metadata": {},
     "output_type": "execute_result"
    }
   ],
   "source": [
    "b_2"
   ]
  },
  {
   "cell_type": "markdown",
   "id": "db832212",
   "metadata": {},
   "source": [
    "in here, we just show how to calculate in term of soft-margin because most explanation are already explained in SVM-hard-margin"
   ]
  }
 ],
 "metadata": {
  "kernelspec": {
   "display_name": "Python 3 (ipykernel)",
   "language": "python",
   "name": "python3"
  },
  "language_info": {
   "codemirror_mode": {
    "name": "ipython",
    "version": 3
   },
   "file_extension": ".py",
   "mimetype": "text/x-python",
   "name": "python",
   "nbconvert_exporter": "python",
   "pygments_lexer": "ipython3",
   "version": "3.8.10"
  }
 },
 "nbformat": 4,
 "nbformat_minor": 5
}
